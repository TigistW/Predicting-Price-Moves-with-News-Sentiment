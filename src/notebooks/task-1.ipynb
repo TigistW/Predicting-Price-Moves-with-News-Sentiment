{
  "nbformat": 4,
  "nbformat_minor": 0,
  "metadata": {
    "colab": {
      "provenance": []
    },
    "kernelspec": {
      "name": "python3",
      "display_name": "Python 3"
    },
    "language_info": {
      "name": "python"
    }
  },
  "cells": [
    {
      "cell_type": "code",
      "execution_count": null,
      "metadata": {
        "id": "z8LrpFx4-hV8"
      },
      "outputs": [],
      "source": [
        "%pip install textblob"
      ]
    },
    {
      "cell_type": "code",
      "source": [
        "import pandas as pd\n",
        "import matplotlib.pyplot as plt\n",
        "from textblob import TextBlob\n",
        "from sklearn.feature_extraction.text import CountVectorizer"
      ],
      "metadata": {
        "id": "dg1O7gm0-m_f"
      },
      "execution_count": null,
      "outputs": []
    },
    {
      "cell_type": "code",
      "source": [
        "# Load Data\n",
        "file_path = '../data/raw_analyst_ratings.csv'\n",
        "data = pd.read_csv(file_path)"
      ],
      "metadata": {
        "id": "J_Vf7AOx-oc9"
      },
      "execution_count": null,
      "outputs": []
    },
    {
      "cell_type": "code",
      "source": [
        "# Basic Inspection\n",
        "print(\"Dataset Head:\")\n",
        "print(data.head())\n",
        "print(\"\\nDataset Info:\")\n",
        "print(data.info())"
      ],
      "metadata": {
        "id": "J9l4fMn_-qV2"
      },
      "execution_count": null,
      "outputs": []
    },
    {
      "cell_type": "code",
      "source": [
        "# Check for Missing Values\n",
        "print(\"\\nMissing Values:\")\n",
        "print(data.isnull().sum())"
      ],
      "metadata": {
        "id": "7IJtUGEd-r0T"
      },
      "execution_count": null,
      "outputs": []
    },
    {
      "cell_type": "code",
      "source": [
        "# Handle Missing Values\n",
        "# Drop rows with any missing values\n",
        "data = data.dropna()\n",
        "\n",
        "print(\"\\nMissing Values After Handling:\")\n",
        "print(data.isnull().sum())"
      ],
      "metadata": {
        "id": "4g8zWZ50-vpN"
      },
      "execution_count": null,
      "outputs": []
    },
    {
      "cell_type": "code",
      "source": [
        "# Descriptive Statistics\n",
        "# Headline Length Analysis\n",
        "data['headline_length'] = data['headline'].apply(len)\n",
        "print(\"\\nHeadline Length Statistics:\")\n",
        "print(data['headline_length'].describe())"
      ],
      "metadata": {
        "id": "y0Gj3fDf-waE"
      },
      "execution_count": null,
      "outputs": []
    },
    {
      "cell_type": "code",
      "source": [
        "# Publisher Analysis\n",
        "publisher_counts = data['publisher'].value_counts()\n",
        "print(\"\\nTop Publishers:\")\n",
        "print(publisher_counts.head(10))"
      ],
      "metadata": {
        "id": "JZOHzH7Z-zp6"
      },
      "execution_count": null,
      "outputs": []
    },
    {
      "cell_type": "code",
      "source": [
        "# Publication Date Trends\n",
        "data['date'] = pd.to_datetime(data['date'], utc=True,format='ISO8601')\n",
        "data['day_of_week'] = data['date'].dt.day_name()\n",
        "print(\"\\nPublication Count by Day of Week:\")\n",
        "print(data['day_of_week'].value_counts())\n"
      ],
      "metadata": {
        "id": "OvPDh73Z-1nU"
      },
      "execution_count": null,
      "outputs": []
    },
    {
      "cell_type": "code",
      "source": [
        "# Visualization - Headline Length Distribution\n",
        "plt.figure(figsize=(10, 6))\n",
        "plt.hist(data['headline_length'], bins=30, edgecolor='k', alpha=0.7)\n",
        "plt.title('Headline Length Distribution')\n",
        "plt.xlabel('Length of Headline')\n",
        "plt.ylabel('Frequency')\n",
        "plt.show()"
      ],
      "metadata": {
        "id": "HFfxtxuQ-3PG"
      },
      "execution_count": null,
      "outputs": []
    },
    {
      "cell_type": "code",
      "source": [
        "# Visualization - Publisher Contributions\n",
        "plt.figure(figsize=(10, 6))\n",
        "publisher_counts.head(15).plot(kind='bar', color='skyblue')\n",
        "plt.title('Top 10 Publishers by Number of Articles')\n",
        "plt.xlabel('Publisher')\n",
        "plt.ylabel('Number of Articles')\n",
        "plt.xticks(rotation=45)\n",
        "plt.show()"
      ],
      "metadata": {
        "id": "DFdnh6e1-5Zu"
      },
      "execution_count": null,
      "outputs": []
    },
    {
      "cell_type": "code",
      "source": [
        "# Text Analysis - Sentiment Analysis\n",
        "def get_sentiment(text):\n",
        "    sentiment = TextBlob(text).sentiment.polarity\n",
        "    return sentiment"
      ],
      "metadata": {
        "id": "SE-KpjVH-7I4"
      },
      "execution_count": null,
      "outputs": []
    },
    {
      "cell_type": "code",
      "source": [
        "data['sentiment'] = data['headline'].apply(get_sentiment)\n",
        "print(\"\\nSentiment Statistics:\")\n",
        "print(data['sentiment'].describe())"
      ],
      "metadata": {
        "id": "8uDlsEOt-9LD"
      },
      "execution_count": null,
      "outputs": []
    },
    {
      "cell_type": "code",
      "source": [
        "# Visualization - Sentiment Distribution\n",
        "plt.figure(figsize=(10, 6))\n",
        "plt.hist(data['sentiment'], bins=30, edgecolor='k', alpha=0.7)\n",
        "plt.title('Sentiment Score Distribution')\n",
        "plt.xlabel('Sentiment Score')\n",
        "plt.ylabel('Frequency')\n",
        "plt.show()"
      ],
      "metadata": {
        "id": "I-AugeDc--n_"
      },
      "execution_count": null,
      "outputs": []
    },
    {
      "cell_type": "code",
      "source": [
        "# Keyword Extraction\n",
        "vectorizer = CountVectorizer(stop_words='english', max_features=10)\n",
        "X = vectorizer.fit_transform(data['headline'])\n",
        "keywords = vectorizer.get_feature_names_out()\n",
        "print(\"\\nTop Keywords:\")\n",
        "print(keywords)"
      ],
      "metadata": {
        "id": "9NAOqS8E_Ayb"
      },
      "execution_count": null,
      "outputs": []
    },
    {
      "cell_type": "code",
      "source": [
        "# Time Series Analysis - Publication Times\n",
        "data['hour'] = data['date'].dt.hour\n",
        "hourly_distribution = data['hour'].value_counts().sort_index()\n",
        "\n",
        "plt.figure(figsize=(10, 6))\n",
        "hourly_distribution = hourly_distribution.reindex(range(24), fill_value=0)\n",
        "hourly_distribution.plot(kind='bar', color='orange')\n",
        "plt.title('Publication Count by Hour')\n",
        "plt.xlabel('Hour of Day')\n",
        "plt.ylabel('Number of Articles')\n",
        "plt.show()"
      ],
      "metadata": {
        "id": "wPN3iPuW_CsL"
      },
      "execution_count": null,
      "outputs": []
    },
    {
      "cell_type": "code",
      "source": [
        "# Save Processed Data\n",
        "data.to_csv('../data/processed_financial_news.csv', index=False)"
      ],
      "metadata": {
        "id": "KPz_2-h8_EwZ"
      },
      "execution_count": null,
      "outputs": []
    }
  ]
}