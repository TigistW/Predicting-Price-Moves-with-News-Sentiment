{
  "nbformat": 4,
  "nbformat_minor": 0,
  "metadata": {
    "colab": {
      "provenance": []
    },
    "kernelspec": {
      "name": "python3",
      "display_name": "Python 3"
    },
    "language_info": {
      "name": "python"
    }
  },
  "cells": [
    {
      "cell_type": "code",
      "execution_count": null,
      "metadata": {
        "id": "B8gJJ3JB_Rlo"
      },
      "outputs": [],
      "source": [
        "%pip install tulipy\n",
        "%pip install pynance"
      ]
    },
    {
      "cell_type": "code",
      "source": [
        "import pandas as pd\n",
        "import matplotlib.pyplot as plt\n",
        "import os\n",
        "import tulipy as ti\n",
        "import pynance as pn"
      ],
      "metadata": {
        "id": "nCU-EKPG_TGb"
      },
      "execution_count": null,
      "outputs": []
    },
    {
      "cell_type": "code",
      "source": [
        "# Directory containing your CSV files\n",
        "data_dir = '../data/yfinance_data'  # Replace with the folder where your files are located\n",
        "file_list = [f for f in os.listdir(data_dir) if f.endswith('.csv')]\n",
        "# Initialize an empty list to store DataFrames\n",
        "all_data = []\n",
        "\n",
        "# Process Each File\n",
        "for file_name in file_list:\n",
        "    file_path = os.path.join(data_dir, file_name)\n",
        "    stock_data = pd.read_csv(file_path)\n",
        "\n",
        "    # Ensure Date is a Datetime Object\n",
        "    stock_data['Date'] = pd.to_datetime(stock_data['Date'])\n",
        "\n",
        "    # Add a column for the stock name (derived from file name)\n",
        "    stock_name = os.path.splitext(file_name)[0]\n",
        "    stock_data['Stock'] = stock_name\n",
        "\n",
        "    # Append to the list\n",
        "    all_data.append(stock_data)\n",
        "\n",
        "# Concatenate all DataFrames into one\n",
        "combined_data = pd.concat(all_data, ignore_index=True)\n",
        "\n",
        "# Save Combined Data to CSV\n",
        "output_file = '../data/combined_stock_data.csv'\n",
        "combined_data.to_csv(output_file, index=False)\n",
        "print(f\"Combined data saved to {output_file}\")\n",
        "\n",
        "# Optional: Preview the combined data\n",
        "print(\"Preview of Combined Data:\")\n",
        "print(combined_data.head())"
      ],
      "metadata": {
        "id": "KxElmXZE_umu"
      },
      "execution_count": null,
      "outputs": []
    },
    {
      "cell_type": "code",
      "source": [
        "def visualize_indicators_in_grid(stock_data, stock_name):\n",
        "    fig, axes = plt.subplots(2, 2, figsize=(16, 12))\n",
        "    fig.suptitle(f'{stock_name}: Technical Indicators', fontsize=16)\n",
        "\n",
        "    # Close Price with SMA\n",
        "    axes[0, 0].plot(stock_data['Close'], label='Close Price', alpha=0.75)\n",
        "    axes[0, 0].plot(stock_data['SMA_20'], label='SMA 20', linestyle='--')\n",
        "    axes[0, 0].set_title('Close Price with SMA')\n",
        "    axes[0, 0].set_xlabel('Date')\n",
        "    axes[0, 0].set_ylabel('Price')\n",
        "    axes[0, 0].legend()\n",
        "\n",
        "    # RSI\n",
        "    axes[0, 1].plot(stock_data['RSI'], label='RSI', color='orange')\n",
        "    axes[0, 1].axhline(70, color='red', linestyle='--', label='Overbought (70)')\n",
        "    axes[0, 1].axhline(30, color='green', linestyle='--', label='Oversold (30)')\n",
        "    axes[0, 1].set_title('RSI Indicator')\n",
        "    axes[0, 1].set_xlabel('Date')\n",
        "    axes[0, 1].set_ylabel('RSI Value')\n",
        "    axes[0, 1].legend()\n",
        "\n",
        "    # MACD\n",
        "    axes[1, 0].plot(stock_data['MACD'], label='MACD', color='blue')\n",
        "    axes[1, 0].plot(stock_data['MACD_signal'], label='Signal Line', color='red')\n",
        "    axes[1, 0].set_title('MACD Indicator')\n",
        "    axes[1, 0].set_xlabel('Date')\n",
        "    axes[1, 0].set_ylabel('Value')\n",
        "    axes[1, 0].legend()\n",
        "\n",
        "    # Bollinger Bands\n",
        "    axes[1, 1].plot(stock_data['Close'], label='Close Price', alpha=0.75)\n",
        "    axes[1, 1].plot(stock_data['upper_band'], label='Upper Band', linestyle='--', color='red')\n",
        "    axes[1, 1].plot(stock_data['middle_band'], label='Middle Band', linestyle='--', color='blue')\n",
        "    axes[1, 1].plot(stock_data['lower_band'], label='Lower Band', linestyle='--', color='green')\n",
        "    axes[1, 1].set_title('Bollinger Bands')\n",
        "    axes[1, 1].set_xlabel('Date')\n",
        "    axes[1, 1].set_ylabel('Price')\n",
        "    axes[1, 1].legend()\n",
        "\n",
        "    plt.tight_layout(rect=[0, 0.03, 1, 0.95])\n",
        "    plt.show()\n"
      ],
      "metadata": {
        "id": "mF4JFK_W_wSB"
      },
      "execution_count": null,
      "outputs": []
    },
    {
      "cell_type": "code",
      "source": [
        "def calculate_financial_metrics_with_pynance(stock_data, stock_name):\n",
        "    print(f\"Financial metrics for {stock_name}:\")\n",
        "    print(stock_data.describe())  # Summary statistics\n",
        "\n",
        "    # Calculate Daily Returns\n",
        "    stock_data['Daily_Returns'] = stock_data['Close'].pct_change()\n",
        "\n",
        "    # Calculate Annualized Volatility (252 trading days assumed)\n",
        "    annualized_volatility = stock_data['Daily_Returns'].std() * (252 ** 0.5)\n",
        "    print(f\"Annualized Volatility: {annualized_volatility:.2f}\")\n",
        "\n",
        "    # Visualize Daily Returns\n",
        "    plt.figure(figsize=(10, 6))\n",
        "    plt.plot(stock_data.index, stock_data['Daily_Returns'], label='Daily Returns', alpha=0.75)\n",
        "    plt.title(f'{stock_name}: Daily Returns')\n",
        "    plt.xlabel('Date')\n",
        "    plt.ylabel('Returns')\n",
        "    plt.axhline(0, color='black', linewidth=0.5, linestyle='--')\n",
        "    plt.legend()\n",
        "    plt.show()"
      ],
      "metadata": {
        "id": "XvUClCeV_ydT"
      },
      "execution_count": null,
      "outputs": []
    },
    {
      "cell_type": "code",
      "source": [
        "combined_data['Date'] = pd.to_datetime(combined_data['Date'])\n",
        "combined_data.set_index('Date', inplace=True)\n",
        "\n",
        "for stock_name, stock_data in combined_data.groupby('Stock'):\n",
        "    print(f\"Processing stock: {stock_name}\")\n",
        "\n",
        "    # Drop rows with insufficient data for indicators\n",
        "    if len(stock_data) < 26:  # Ensure enough data for MACD's long period\n",
        "        print(f\"Not enough data to calculate indicators for {stock_name}\")\n",
        "        continue\n",
        "\n",
        "    # Ensure the data is sorted by date\n",
        "    stock_data = stock_data.sort_index()\n",
        "\n",
        "    # Convert Close prices to numpy array for tulipy\n",
        "    close_prices = stock_data['Close'].values\n",
        "\n",
        "    # Calculate Technical Indicators\n",
        "    stock_data['SMA_20'] = pd.Series(ti.sma(close_prices, period=20), index=stock_data.index[-len(ti.sma(close_prices, period=20)):])\n",
        "    stock_data['RSI'] = pd.Series(ti.rsi(close_prices, period=14), index=stock_data.index[-len(ti.rsi(close_prices, period=14)):])\n",
        "    macd_data = ti.macd(close_prices, short_period=12, long_period=26, signal_period=9)\n",
        "    stock_data['MACD'] = pd.Series(macd_data[0], index=stock_data.index[-len(macd_data[0]):])\n",
        "    stock_data['MACD_signal'] = pd.Series(macd_data[1], index=stock_data.index[-len(macd_data[1]):])\n",
        "    upper_band, middle_band, lower_band = ti.bbands(close_prices, period=20, stddev=2)\n",
        "    stock_data['upper_band'] = pd.Series(upper_band, index=stock_data.index[-len(upper_band):])\n",
        "    stock_data['middle_band'] = pd.Series(middle_band, index=stock_data.index[-len(middle_band):])\n",
        "    stock_data['lower_band'] = pd.Series(lower_band, index=stock_data.index[-len(lower_band):])\n",
        "\n",
        "    # Visualization in Grid\n",
        "    visualize_indicators_in_grid(stock_data, stock_name)\n",
        "\n",
        "    # Financial Metrics\n",
        "    calculate_financial_metrics_with_pynance(stock_data, stock_name)\n",
        "\n",
        "    # Save Processed Data\n",
        "    output_file = f'../data/processed_{stock_name}.csv'\n",
        "    stock_data.to_csv(output_file)\n",
        "    print(f\"Processed data saved for {stock_name} to {output_file}\")\n"
      ],
      "metadata": {
        "id": "Qe5jgsU3_1PR"
      },
      "execution_count": null,
      "outputs": []
    },
    {
      "cell_type": "code",
      "source": [],
      "metadata": {
        "id": "NfklE9cX_2Bk"
      },
      "execution_count": null,
      "outputs": []
    }
  ]
}